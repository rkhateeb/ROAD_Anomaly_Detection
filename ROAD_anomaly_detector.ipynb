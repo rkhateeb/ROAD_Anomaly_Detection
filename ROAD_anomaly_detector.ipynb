{
 "cells": [
  {
   "cell_type": "code",
   "execution_count": 26,
   "metadata": {
    "colab": {
     "base_uri": "https://localhost:8080/"
    },
    "id": "id_CY4ebR0Gz",
    "outputId": "1abaf8e3-18a8-44a2-b398-a78b3ebae927"
   },
   "outputs": [],
   "source": [
    "import h5py\n",
    "import numpy as np\n",
    "import pandas as pd\n",
    "import numpy as np\n",
    "\n",
    "file_path = '/Users/rizq/projects/roaddata/ROAD_dataset.h5'"
   ]
  },
  {
   "cell_type": "code",
   "execution_count": 2,
   "metadata": {
    "id": "WjMdDmGMSSEm",
    "jupyter": {
     "source_hidden": true
    }
   },
   "outputs": [],
   "source": [
    "train = 'train_data/data'\n",
    "test = 'test_data/data'\n",
    "\n",
    "train_indices = 0\n",
    "test_indices = 0\n",
    "anomalyGroups = []"
   ]
  },
  {
   "cell_type": "code",
   "execution_count": 3,
   "metadata": {
    "colab": {
     "base_uri": "https://localhost:8080/"
    },
    "id": "nQMUDaWHR_cI",
    "outputId": "0adbd241-4a78-428e-c0d6-4c3f31f6f4f6"
   },
   "outputs": [
    {
     "name": "stdout",
     "output_type": "stream",
     "text": [
      "['first_order_data_loss', 'first_order_high_noise', 'galactic_plane', 'lightning', 'oscillating_tile', 'rfi_ionosphere_reflect', 'solar_storm', 'source_in_sidelobes', 'third_order_data_loss']\n"
     ]
    }
   ],
   "source": [
    "with h5py.File(file_path, 'r') as hf:\n",
    "  train_indices = len(hf[train])\n",
    "  test_indices = len(hf[test])\n",
    "\n",
    "  for k in hf['anomaly_data'].keys():\n",
    "    anomalyGroups.append(k)\n",
    "  print(anomalyGroups)"
   ]
  },
  {
   "cell_type": "code",
   "execution_count": 4,
   "metadata": {
    "colab": {
     "base_uri": "https://localhost:8080/"
    },
    "id": "gRTrTaCNczTb",
    "outputId": "cc68c357-0b7c-4a9b-f978-5be338725933"
   },
   "outputs": [
    {
     "name": "stdout",
     "output_type": "stream",
     "text": [
      "3687\n",
      "1000\n"
     ]
    }
   ],
   "source": [
    "print(train_indices)\n",
    "print(test_indices)"
   ]
  },
  {
   "cell_type": "code",
   "execution_count": 5,
   "metadata": {
    "id": "A7IR_Jt-eU52"
   },
   "outputs": [],
   "source": [
    "anomalyTrainGroupDict = {}\n",
    "anomalyTestGroupDict = {}"
   ]
  },
  {
   "cell_type": "code",
   "execution_count": 6,
   "metadata": {
    "colab": {
     "base_uri": "https://localhost:8080/"
    },
    "id": "1KncAAHATnX5",
    "outputId": "0114dfb9-65b1-40d4-85a6-b97567ddcd8f",
    "scrolled": true
   },
   "outputs": [],
   "source": [
    "import torch\n",
    "from torch.utils.data import random_split\n",
    "\n",
    "with h5py.File(file_path, 'r') as hf:\n",
    "\n",
    "  for k in hf['anomaly_data'].keys():\n",
    "    dataset = hf['anomaly_data'][k]['data']\n",
    "    #print(k)\n",
    "\n",
    "    # Define the sizes of the splits\n",
    "    train_size = int(0.8 * len(dataset))\n",
    "    test_size = len(dataset) - train_size\n",
    "\n",
    "    # Split the dataset into training and testing sets\n",
    "    train_dataset, test_dataset = random_split(dataset, [train_size, test_size])\n",
    "\n",
    "    anomalyTrainGroupDict[k] = train_dataset.indices\n",
    "    anomalyTestGroupDict[k] = test_dataset.indices\n",
    "\n",
    "    #print(test_dataset.indices)"
   ]
  },
  {
   "cell_type": "code",
   "execution_count": 8,
   "metadata": {
    "id": "-0KCi7XVbBDl"
   },
   "outputs": [],
   "source": [
    "trainPaths = []\n",
    "testPaths = []\n",
    "for i in range(train_indices):\n",
    "  tup = ('train_data', i)\n",
    "  trainPaths.append(tup)\n",
    "\n",
    "for i in range(test_indices):\n",
    "  tup = ('test_data', i)\n",
    "  testPaths.append(tup)\n",
    "\n",
    "for k in anomalyTrainGroupDict.keys():\n",
    "  for idx in anomalyTrainGroupDict[k]:\n",
    "    tup = (f'anomaly_data/{k}', idx)\n",
    "    trainPaths.append(tup)\n",
    "\n",
    "for k in anomalyTestGroupDict.keys():\n",
    "  for idx in anomalyTestGroupDict[k]:\n",
    "    tup = (f'anomaly_data/{k}', idx)\n",
    "    testPaths.append(tup)"
   ]
  },
  {
   "cell_type": "code",
   "execution_count": 9,
   "metadata": {
    "colab": {
     "base_uri": "https://localhost:8080/"
    },
    "id": "qMH68LsGbBuT",
    "outputId": "459ccf6b-1a47-4d31-941b-49d2e3c9f76e"
   },
   "outputs": [
    {
     "name": "stdout",
     "output_type": "stream",
     "text": [
      "5575\n",
      "1478\n"
     ]
    }
   ],
   "source": [
    "print(len(trainPaths))\n",
    "print(len(testPaths))"
   ]
  },
  {
   "cell_type": "code",
   "execution_count": 11,
   "metadata": {
    "colab": {
     "base_uri": "https://localhost:8080/"
    },
    "id": "OLBHSl_ffrmm",
    "outputId": "61eda882-611e-4d15-9efe-0d9aca0b0d83",
    "scrolled": true
   },
   "outputs": [],
   "source": [
    "import random\n",
    "\n",
    "random.shuffle(trainPaths)\n",
    "random.shuffle(testPaths)\n",
    "#print(trainPaths)"
   ]
  },
  {
   "cell_type": "code",
   "execution_count": 12,
   "metadata": {
    "id": "Cxgo-si0DSy8"
   },
   "outputs": [],
   "source": [
    "import torch\n",
    "import torch.nn as nn\n",
    "import torch.nn.functional as F\n",
    "import torch.optim as optim\n",
    "\n",
    "# Set device to GPU if available, otherwise use CPU\n",
    "#device = torch.device(\"cuda\" if torch.cuda.is_available() else \"cpu\")\n",
    "# Set device to MPS (Apple Silicon) if available, otherwise use CPU\n",
    "device = torch.device(\"mps\" if torch.backends.mps.is_available() else \"cpu\")"
   ]
  },
  {
   "cell_type": "code",
   "execution_count": 23,
   "metadata": {
    "id": "307tpCoEDpVR"
   },
   "outputs": [],
   "source": [
    "from torch.utils.data import Dataset, DataLoader\n",
    "\n",
    "class H5Dataset(Dataset):\n",
    "    def __init__(self, paths, hf, transform=None):\n",
    "        \"\"\"\n",
    "        paths: A list of tuples (path, index)\n",
    "        transform: Optional transform to be applied on a sample.\n",
    "        \"\"\"\n",
    "        self.paths = paths\n",
    "        self.transform = transform\n",
    "        self.hf = hf\n",
    "\n",
    "        self.anomaly_mapping = {\n",
    "            \"first_order_data_loss\": 1,\n",
    "            \"first_order_high_noise\": 2,\n",
    "            \"galactic_plane\": 3,\n",
    "            \"lightning\": 4,\n",
    "            \"oscillating_tile\": 5,\n",
    "            \"rfi_ionosphere_reflect\": 6,\n",
    "            \"solar_storm\": 7,\n",
    "            \"source_in_sidelobes\": 8,\n",
    "            \"third_order_data_loss\": 9\n",
    "        }\n",
    "\n",
    "    def __len__(self):\n",
    "        return len(self.paths)\n",
    "\n",
    "    def __getitem__(self, i):\n",
    "        path, index = self.paths[i]\n",
    "        #print(path)\n",
    "\n",
    "        # Open the file and retrieve the sample and label on the fly\n",
    "        #with h5py.File(file_path, 'r') as hf:\n",
    "            # Extract the data sample and label using the index\n",
    "        data = hf[f'{path}/data'][index]\n",
    "        label = hf[f'{path}/labels'][index]\n",
    "\n",
    "        # Optionally apply a transformation to the data sample\n",
    "        if self.transform:\n",
    "            data = self.transform(data)\n",
    "\n",
    "        # Convert sample to a tensor\n",
    "        data = torch.tensor(data, dtype=torch.float32)\n",
    "\n",
    "        data = data.permute(2, 0, 1)\n",
    "\n",
    "        if isinstance(label, (np.bytes_, bytes)):\n",
    "            label = label.decode('utf-8')\n",
    "\n",
    "        if label == '':\n",
    "            label_int = 0\n",
    "            #print('normal')\n",
    "        else:\n",
    "            label = path.split(\"/\")[-1]\n",
    "            if label in self.anomaly_mapping:\n",
    "                label_int = self.anomaly_mapping[label]\n",
    "                #print(f\"label = {label}\")\n",
    "            else:\n",
    "                raise ValueError(f\"Label {label} not found in mapping dictionary!\")\n",
    "\n",
    "\n",
    "        label_int = torch.tensor(label_int, dtype=torch.long)\n",
    "\n",
    "        return data, label_int"
   ]
  },
  {
   "cell_type": "code",
   "execution_count": 25,
   "metadata": {},
   "outputs": [
    {
     "name": "stdout",
     "output_type": "stream",
     "text": [
      "Starting hyperparameter tuning...\n",
      "\n",
      "Experiment 1/32: lr=0.001, batch_size=16, filters=16, kernel_size=3, dropout=0.0\n"
     ]
    },
    {
     "name": "stderr",
     "output_type": "stream",
     "text": [
      "                                                                                                                                                                                                                                                              "
     ]
    },
    {
     "name": "stdout",
     "output_type": "stream",
     "text": [
      "Test Accuracy: 0.7077 -- Model saved as checkpoints/model_lr0.001_bs16_f16_k3_d0.0.pth\n",
      "\n",
      "Experiment 2/32: lr=0.001, batch_size=16, filters=16, kernel_size=3, dropout=0.5\n"
     ]
    },
    {
     "name": "stderr",
     "output_type": "stream",
     "text": [
      "                                                                                                                                                                                                                                                              "
     ]
    },
    {
     "name": "stdout",
     "output_type": "stream",
     "text": [
      "Test Accuracy: 0.7057 -- Model saved as checkpoints/model_lr0.001_bs16_f16_k3_d0.5.pth\n",
      "\n",
      "Experiment 3/32: lr=0.001, batch_size=16, filters=16, kernel_size=5, dropout=0.0\n"
     ]
    },
    {
     "name": "stderr",
     "output_type": "stream",
     "text": [
      "                                                                                                                                                                                                                                                              "
     ]
    },
    {
     "name": "stdout",
     "output_type": "stream",
     "text": [
      "Test Accuracy: 0.6982 -- Model saved as checkpoints/model_lr0.001_bs16_f16_k5_d0.0.pth\n",
      "\n",
      "Experiment 4/32: lr=0.001, batch_size=16, filters=16, kernel_size=5, dropout=0.5\n"
     ]
    },
    {
     "name": "stderr",
     "output_type": "stream",
     "text": [
      "                                                                                                                                                                                                                                                              "
     ]
    },
    {
     "name": "stdout",
     "output_type": "stream",
     "text": [
      "Test Accuracy: 0.7341 -- Model saved as checkpoints/model_lr0.001_bs16_f16_k5_d0.5.pth\n",
      "\n",
      "Experiment 5/32: lr=0.001, batch_size=16, filters=32, kernel_size=3, dropout=0.0\n"
     ]
    },
    {
     "name": "stderr",
     "output_type": "stream",
     "text": [
      "                                                                                                                                                                                                                                                              "
     ]
    },
    {
     "name": "stdout",
     "output_type": "stream",
     "text": [
      "Test Accuracy: 0.3484 -- Model saved as checkpoints/model_lr0.001_bs16_f32_k3_d0.0.pth\n",
      "\n",
      "Experiment 6/32: lr=0.001, batch_size=16, filters=32, kernel_size=3, dropout=0.5\n"
     ]
    },
    {
     "name": "stderr",
     "output_type": "stream",
     "text": [
      "                                                                                                                                                                                                                                                              "
     ]
    },
    {
     "name": "stdout",
     "output_type": "stream",
     "text": [
      "Test Accuracy: 0.7192 -- Model saved as checkpoints/model_lr0.001_bs16_f32_k3_d0.5.pth\n",
      "\n",
      "Experiment 7/32: lr=0.001, batch_size=16, filters=32, kernel_size=5, dropout=0.0\n"
     ]
    },
    {
     "name": "stderr",
     "output_type": "stream",
     "text": [
      "                                                                                                                                                                                                                                                              "
     ]
    },
    {
     "name": "stdout",
     "output_type": "stream",
     "text": [
      "Test Accuracy: 0.7388 -- Model saved as checkpoints/model_lr0.001_bs16_f32_k5_d0.0.pth\n",
      "\n",
      "Experiment 8/32: lr=0.001, batch_size=16, filters=32, kernel_size=5, dropout=0.5\n"
     ]
    },
    {
     "name": "stderr",
     "output_type": "stream",
     "text": [
      "                                                                                                                                                                                                                                                              "
     ]
    },
    {
     "name": "stdout",
     "output_type": "stream",
     "text": [
      "Test Accuracy: 0.7395 -- Model saved as checkpoints/model_lr0.001_bs16_f32_k5_d0.5.pth\n",
      "\n",
      "Experiment 9/32: lr=0.001, batch_size=32, filters=16, kernel_size=3, dropout=0.0\n"
     ]
    },
    {
     "name": "stderr",
     "output_type": "stream",
     "text": [
      "                                                                                                                                                                                                                                                              "
     ]
    },
    {
     "name": "stdout",
     "output_type": "stream",
     "text": [
      "Test Accuracy: 0.6800 -- Model saved as checkpoints/model_lr0.001_bs32_f16_k3_d0.0.pth\n",
      "\n",
      "Experiment 10/32: lr=0.001, batch_size=32, filters=16, kernel_size=3, dropout=0.5\n"
     ]
    },
    {
     "name": "stderr",
     "output_type": "stream",
     "text": [
      "                                                                                                                                                                                                                                                              "
     ]
    },
    {
     "name": "stdout",
     "output_type": "stream",
     "text": [
      "Test Accuracy: 0.7023 -- Model saved as checkpoints/model_lr0.001_bs32_f16_k3_d0.5.pth\n",
      "\n",
      "Experiment 11/32: lr=0.001, batch_size=32, filters=16, kernel_size=5, dropout=0.0\n"
     ]
    },
    {
     "name": "stderr",
     "output_type": "stream",
     "text": [
      "                                                                                                                                                                                                                                                              "
     ]
    },
    {
     "name": "stdout",
     "output_type": "stream",
     "text": [
      "Test Accuracy: 0.6827 -- Model saved as checkpoints/model_lr0.001_bs32_f16_k5_d0.0.pth\n",
      "\n",
      "Experiment 12/32: lr=0.001, batch_size=32, filters=16, kernel_size=5, dropout=0.5\n"
     ]
    },
    {
     "name": "stderr",
     "output_type": "stream",
     "text": [
      "                                                                                                                                                                                                                                                              "
     ]
    },
    {
     "name": "stdout",
     "output_type": "stream",
     "text": [
      "Test Accuracy: 0.7476 -- Model saved as checkpoints/model_lr0.001_bs32_f16_k5_d0.5.pth\n",
      "\n",
      "Experiment 13/32: lr=0.001, batch_size=32, filters=32, kernel_size=3, dropout=0.0\n"
     ]
    },
    {
     "name": "stderr",
     "output_type": "stream",
     "text": [
      "                                                                                                                                                                                                                                                              "
     ]
    },
    {
     "name": "stdout",
     "output_type": "stream",
     "text": [
      "Test Accuracy: 0.7192 -- Model saved as checkpoints/model_lr0.001_bs32_f32_k3_d0.0.pth\n",
      "\n",
      "Experiment 14/32: lr=0.001, batch_size=32, filters=32, kernel_size=3, dropout=0.5\n"
     ]
    },
    {
     "name": "stderr",
     "output_type": "stream",
     "text": [
      "                                                                                                                                                                                                                                                              "
     ]
    },
    {
     "name": "stdout",
     "output_type": "stream",
     "text": [
      "Test Accuracy: 0.6915 -- Model saved as checkpoints/model_lr0.001_bs32_f32_k3_d0.5.pth\n",
      "\n",
      "Experiment 15/32: lr=0.001, batch_size=32, filters=32, kernel_size=5, dropout=0.0\n"
     ]
    },
    {
     "name": "stderr",
     "output_type": "stream",
     "text": [
      "                                                                                                                                                                                                                                                              "
     ]
    },
    {
     "name": "stdout",
     "output_type": "stream",
     "text": [
      "Test Accuracy: 0.6103 -- Model saved as checkpoints/model_lr0.001_bs32_f32_k5_d0.0.pth\n",
      "\n",
      "Experiment 16/32: lr=0.001, batch_size=32, filters=32, kernel_size=5, dropout=0.5\n"
     ]
    },
    {
     "name": "stderr",
     "output_type": "stream",
     "text": [
      "                                                                                                                                                                                                                                                              "
     ]
    },
    {
     "name": "stdout",
     "output_type": "stream",
     "text": [
      "Test Accuracy: 0.1590 -- Model saved as checkpoints/model_lr0.001_bs32_f32_k5_d0.5.pth\n",
      "\n",
      "Experiment 17/32: lr=0.0005, batch_size=16, filters=16, kernel_size=3, dropout=0.0\n"
     ]
    },
    {
     "name": "stderr",
     "output_type": "stream",
     "text": [
      "                                                                                                                                                                                                                                                              "
     ]
    },
    {
     "name": "stdout",
     "output_type": "stream",
     "text": [
      "Test Accuracy: 0.6861 -- Model saved as checkpoints/model_lr0.0005_bs16_f16_k3_d0.0.pth\n",
      "\n",
      "Experiment 18/32: lr=0.0005, batch_size=16, filters=16, kernel_size=3, dropout=0.5\n"
     ]
    },
    {
     "name": "stderr",
     "output_type": "stream",
     "text": [
      "                                                                                                                                                                                                                                                              "
     ]
    },
    {
     "name": "stdout",
     "output_type": "stream",
     "text": [
      "Test Accuracy: 0.6982 -- Model saved as checkpoints/model_lr0.0005_bs16_f16_k3_d0.5.pth\n",
      "\n",
      "Experiment 19/32: lr=0.0005, batch_size=16, filters=16, kernel_size=5, dropout=0.0\n"
     ]
    },
    {
     "name": "stderr",
     "output_type": "stream",
     "text": [
      "                                                                                                                                                                                                                                                              "
     ]
    },
    {
     "name": "stdout",
     "output_type": "stream",
     "text": [
      "Test Accuracy: 0.7300 -- Model saved as checkpoints/model_lr0.0005_bs16_f16_k5_d0.0.pth\n",
      "\n",
      "Experiment 20/32: lr=0.0005, batch_size=16, filters=16, kernel_size=5, dropout=0.5\n"
     ]
    },
    {
     "name": "stderr",
     "output_type": "stream",
     "text": [
      "                                                                                                                                                                                                                                                              "
     ]
    },
    {
     "name": "stdout",
     "output_type": "stream",
     "text": [
      "Test Accuracy: 0.7145 -- Model saved as checkpoints/model_lr0.0005_bs16_f16_k5_d0.5.pth\n",
      "\n",
      "Experiment 21/32: lr=0.0005, batch_size=16, filters=32, kernel_size=3, dropout=0.0\n"
     ]
    },
    {
     "name": "stderr",
     "output_type": "stream",
     "text": [
      "                                                                                                                                                                                                                                                              "
     ]
    },
    {
     "name": "stdout",
     "output_type": "stream",
     "text": [
      "Test Accuracy: 0.7307 -- Model saved as checkpoints/model_lr0.0005_bs16_f32_k3_d0.0.pth\n",
      "\n",
      "Experiment 22/32: lr=0.0005, batch_size=16, filters=32, kernel_size=3, dropout=0.5\n"
     ]
    },
    {
     "name": "stderr",
     "output_type": "stream",
     "text": [
      "                                                                                                                                                                                                                                                              "
     ]
    },
    {
     "name": "stdout",
     "output_type": "stream",
     "text": [
      "Test Accuracy: 0.7158 -- Model saved as checkpoints/model_lr0.0005_bs16_f32_k3_d0.5.pth\n",
      "\n",
      "Experiment 23/32: lr=0.0005, batch_size=16, filters=32, kernel_size=5, dropout=0.0\n"
     ]
    },
    {
     "name": "stderr",
     "output_type": "stream",
     "text": [
      "                                                                                                                                                                                                                                                              "
     ]
    },
    {
     "name": "stdout",
     "output_type": "stream",
     "text": [
      "Test Accuracy: 0.7327 -- Model saved as checkpoints/model_lr0.0005_bs16_f32_k5_d0.0.pth\n",
      "\n",
      "Experiment 24/32: lr=0.0005, batch_size=16, filters=32, kernel_size=5, dropout=0.5\n"
     ]
    },
    {
     "name": "stderr",
     "output_type": "stream",
     "text": [
      "                                                                                                                                                                                                                                                              "
     ]
    },
    {
     "name": "stdout",
     "output_type": "stream",
     "text": [
      "Test Accuracy: 0.7158 -- Model saved as checkpoints/model_lr0.0005_bs16_f32_k5_d0.5.pth\n",
      "\n",
      "Experiment 25/32: lr=0.0005, batch_size=32, filters=16, kernel_size=3, dropout=0.0\n"
     ]
    },
    {
     "name": "stderr",
     "output_type": "stream",
     "text": [
      "                                                                                                                                                                                                                                                              "
     ]
    },
    {
     "name": "stdout",
     "output_type": "stream",
     "text": [
      "Test Accuracy: 0.6834 -- Model saved as checkpoints/model_lr0.0005_bs32_f16_k3_d0.0.pth\n",
      "\n",
      "Experiment 26/32: lr=0.0005, batch_size=32, filters=16, kernel_size=3, dropout=0.5\n"
     ]
    },
    {
     "name": "stderr",
     "output_type": "stream",
     "text": [
      "                                                                                                                                                                                                                                                              "
     ]
    },
    {
     "name": "stdout",
     "output_type": "stream",
     "text": [
      "Test Accuracy: 0.6766 -- Model saved as checkpoints/model_lr0.0005_bs32_f16_k3_d0.5.pth\n",
      "\n",
      "Experiment 27/32: lr=0.0005, batch_size=32, filters=16, kernel_size=5, dropout=0.0\n"
     ]
    },
    {
     "name": "stderr",
     "output_type": "stream",
     "text": [
      "                                                                                                                                                                                                                                                              "
     ]
    },
    {
     "name": "stdout",
     "output_type": "stream",
     "text": [
      "Test Accuracy: 0.4655 -- Model saved as checkpoints/model_lr0.0005_bs32_f16_k5_d0.0.pth\n",
      "\n",
      "Experiment 28/32: lr=0.0005, batch_size=32, filters=16, kernel_size=5, dropout=0.5\n"
     ]
    },
    {
     "name": "stderr",
     "output_type": "stream",
     "text": [
      "                                                                                                                                                                                                                                                              "
     ]
    },
    {
     "name": "stdout",
     "output_type": "stream",
     "text": [
      "Test Accuracy: 0.6982 -- Model saved as checkpoints/model_lr0.0005_bs32_f16_k5_d0.5.pth\n",
      "\n",
      "Experiment 29/32: lr=0.0005, batch_size=32, filters=32, kernel_size=3, dropout=0.0\n"
     ]
    },
    {
     "name": "stderr",
     "output_type": "stream",
     "text": [
      "                                                                                                                                                                                                                                                              "
     ]
    },
    {
     "name": "stdout",
     "output_type": "stream",
     "text": [
      "Test Accuracy: 0.6976 -- Model saved as checkpoints/model_lr0.0005_bs32_f32_k3_d0.0.pth\n",
      "\n",
      "Experiment 30/32: lr=0.0005, batch_size=32, filters=32, kernel_size=3, dropout=0.5\n"
     ]
    },
    {
     "name": "stderr",
     "output_type": "stream",
     "text": [
      "                                                                                                                                                                                                                                                              "
     ]
    },
    {
     "name": "stdout",
     "output_type": "stream",
     "text": [
      "Test Accuracy: 0.7050 -- Model saved as checkpoints/model_lr0.0005_bs32_f32_k3_d0.5.pth\n",
      "\n",
      "Experiment 31/32: lr=0.0005, batch_size=32, filters=32, kernel_size=5, dropout=0.0\n"
     ]
    },
    {
     "name": "stderr",
     "output_type": "stream",
     "text": [
      "                                                                                                                                                                                                                                                              "
     ]
    },
    {
     "name": "stdout",
     "output_type": "stream",
     "text": [
      "Test Accuracy: 0.4046 -- Model saved as checkpoints/model_lr0.0005_bs32_f32_k5_d0.0.pth\n",
      "\n",
      "Experiment 32/32: lr=0.0005, batch_size=32, filters=32, kernel_size=5, dropout=0.5\n"
     ]
    },
    {
     "name": "stderr",
     "output_type": "stream",
     "text": [
      "                                                                                                                                                                                                                                                              "
     ]
    },
    {
     "name": "stdout",
     "output_type": "stream",
     "text": [
      "Test Accuracy: 0.7145 -- Model saved as checkpoints/model_lr0.0005_bs32_f32_k5_d0.5.pth\n",
      "\n",
      "Hyperparameter Tuning Results:\n",
      "        lr  batch_size  base_filters  kernel_size  dropout_rate  \\\n",
      "0   0.0010          16            16            3           0.0   \n",
      "1   0.0010          16            16            3           0.5   \n",
      "2   0.0010          16            16            5           0.0   \n",
      "3   0.0010          16            16            5           0.5   \n",
      "4   0.0010          16            32            3           0.0   \n",
      "5   0.0010          16            32            3           0.5   \n",
      "6   0.0010          16            32            5           0.0   \n",
      "7   0.0010          16            32            5           0.5   \n",
      "8   0.0010          32            16            3           0.0   \n",
      "9   0.0010          32            16            3           0.5   \n",
      "10  0.0010          32            16            5           0.0   \n",
      "11  0.0010          32            16            5           0.5   \n",
      "12  0.0010          32            32            3           0.0   \n",
      "13  0.0010          32            32            3           0.5   \n",
      "14  0.0010          32            32            5           0.0   \n",
      "15  0.0010          32            32            5           0.5   \n",
      "16  0.0005          16            16            3           0.0   \n",
      "17  0.0005          16            16            3           0.5   \n",
      "18  0.0005          16            16            5           0.0   \n",
      "19  0.0005          16            16            5           0.5   \n",
      "20  0.0005          16            32            3           0.0   \n",
      "21  0.0005          16            32            3           0.5   \n",
      "22  0.0005          16            32            5           0.0   \n",
      "23  0.0005          16            32            5           0.5   \n",
      "24  0.0005          32            16            3           0.0   \n",
      "25  0.0005          32            16            3           0.5   \n",
      "26  0.0005          32            16            5           0.0   \n",
      "27  0.0005          32            16            5           0.5   \n",
      "28  0.0005          32            32            3           0.0   \n",
      "29  0.0005          32            32            3           0.5   \n",
      "30  0.0005          32            32            5           0.0   \n",
      "31  0.0005          32            32            5           0.5   \n",
      "\n",
      "    test_accuracy                                       model_path  \n",
      "0        0.707713   checkpoints/model_lr0.001_bs16_f16_k3_d0.0.pth  \n",
      "1        0.705683   checkpoints/model_lr0.001_bs16_f16_k3_d0.5.pth  \n",
      "2        0.698241   checkpoints/model_lr0.001_bs16_f16_k5_d0.0.pth  \n",
      "3        0.734100   checkpoints/model_lr0.001_bs16_f16_k5_d0.5.pth  \n",
      "4        0.348444   checkpoints/model_lr0.001_bs16_f32_k3_d0.0.pth  \n",
      "5        0.719215   checkpoints/model_lr0.001_bs16_f32_k3_d0.5.pth  \n",
      "6        0.738836   checkpoints/model_lr0.001_bs16_f32_k5_d0.0.pth  \n",
      "7        0.739513   checkpoints/model_lr0.001_bs16_f32_k5_d0.5.pth  \n",
      "8        0.679973   checkpoints/model_lr0.001_bs32_f16_k3_d0.0.pth  \n",
      "9        0.702300   checkpoints/model_lr0.001_bs32_f16_k3_d0.5.pth  \n",
      "10       0.682679   checkpoints/model_lr0.001_bs32_f16_k5_d0.0.pth  \n",
      "11       0.747632   checkpoints/model_lr0.001_bs32_f16_k5_d0.5.pth  \n",
      "12       0.719215   checkpoints/model_lr0.001_bs32_f32_k3_d0.0.pth  \n",
      "13       0.691475   checkpoints/model_lr0.001_bs32_f32_k3_d0.5.pth  \n",
      "14       0.610284   checkpoints/model_lr0.001_bs32_f32_k5_d0.0.pth  \n",
      "15       0.158999   checkpoints/model_lr0.001_bs32_f32_k5_d0.5.pth  \n",
      "16       0.686062  checkpoints/model_lr0.0005_bs16_f16_k3_d0.0.pth  \n",
      "17       0.698241  checkpoints/model_lr0.0005_bs16_f16_k3_d0.5.pth  \n",
      "18       0.730041  checkpoints/model_lr0.0005_bs16_f16_k5_d0.0.pth  \n",
      "19       0.714479  checkpoints/model_lr0.0005_bs16_f16_k5_d0.5.pth  \n",
      "20       0.730717  checkpoints/model_lr0.0005_bs16_f32_k3_d0.0.pth  \n",
      "21       0.715832  checkpoints/model_lr0.0005_bs16_f32_k3_d0.5.pth  \n",
      "22       0.732747  checkpoints/model_lr0.0005_bs16_f32_k5_d0.0.pth  \n",
      "23       0.715832  checkpoints/model_lr0.0005_bs16_f32_k5_d0.5.pth  \n",
      "24       0.683356  checkpoints/model_lr0.0005_bs32_f16_k3_d0.0.pth  \n",
      "25       0.676590  checkpoints/model_lr0.0005_bs32_f16_k3_d0.5.pth  \n",
      "26       0.465494  checkpoints/model_lr0.0005_bs32_f16_k5_d0.0.pth  \n",
      "27       0.698241  checkpoints/model_lr0.0005_bs32_f16_k5_d0.5.pth  \n",
      "28       0.697564  checkpoints/model_lr0.0005_bs32_f32_k3_d0.0.pth  \n",
      "29       0.705007  checkpoints/model_lr0.0005_bs32_f32_k3_d0.5.pth  \n",
      "30       0.404601  checkpoints/model_lr0.0005_bs32_f32_k5_d0.0.pth  \n",
      "31       0.714479  checkpoints/model_lr0.0005_bs32_f32_k5_d0.5.pth  \n",
      "\n",
      "Best Hyperparameters:\n",
      "        lr  batch_size  base_filters  kernel_size  dropout_rate  \\\n",
      "11  0.0010          32            16            5           0.5   \n",
      "7   0.0010          16            32            5           0.5   \n",
      "6   0.0010          16            32            5           0.0   \n",
      "3   0.0010          16            16            5           0.5   \n",
      "22  0.0005          16            32            5           0.0   \n",
      "\n",
      "    test_accuracy                                       model_path  \n",
      "11       0.747632   checkpoints/model_lr0.001_bs32_f16_k5_d0.5.pth  \n",
      "7        0.739513   checkpoints/model_lr0.001_bs16_f32_k5_d0.5.pth  \n",
      "6        0.738836   checkpoints/model_lr0.001_bs16_f32_k5_d0.0.pth  \n",
      "3        0.734100   checkpoints/model_lr0.001_bs16_f16_k5_d0.5.pth  \n",
      "22       0.732747  checkpoints/model_lr0.0005_bs16_f32_k5_d0.0.pth  \n"
     ]
    },
    {
     "data": {
      "image/png": "[encoded data removed]",
      "text/plain": [
       "<Figure size 1000x600 with 1 Axes>"
      ]
     },
     "metadata": {},
     "output_type": "display_data"
    }
   ],
   "source": [
    "import os\n",
    "import torch\n",
    "import torch.nn as nn\n",
    "import torch.optim as optim\n",
    "from torch.utils.data import DataLoader\n",
    "from tqdm import tqdm\n",
    "import itertools\n",
    "import pandas as pd\n",
    "import numpy as np\n",
    "import matplotlib.pyplot as plt\n",
    "\n",
    "# Set the device\n",
    "#device = torch.device(\"cuda\" if torch.cuda.is_available() else \"cpu\")\n",
    "device = torch.device(\"mps\" if torch.backends.mps.is_available() else \"cpu\")\n",
    "\n",
    "# =============================================================================\n",
    "# Define the CNN Model that accepts hyperparameters\n",
    "# =============================================================================\n",
    "class CNNClassifier(nn.Module):\n",
    "    def __init__(self, num_classes=10, base_filters=16, kernel_size=3, dropout_rate=0.0):\n",
    "        \"\"\"\n",
    "        num_classes: Total number of classes (0 for normal and 1-9 for anomalies)\n",
    "        base_filters: Number of filters for the first convolution layer.\n",
    "        kernel_size: Convolution kernel size (assumed square).\n",
    "        dropout_rate: Dropout probability.\n",
    "        \"\"\"\n",
    "        super(CNNClassifier, self).__init__()\n",
    "        padding = kernel_size // 2  # this keeps the spatial dimensions\n",
    "        # First conv block\n",
    "        self.conv1 = nn.Conv2d(in_channels=4, out_channels=base_filters, kernel_size=kernel_size, padding=padding)\n",
    "        self.bn1 = nn.BatchNorm2d(base_filters)\n",
    "        self.pool = nn.MaxPool2d(2)\n",
    "        \n",
    "        # Second conv block (doubling filters)\n",
    "        self.conv2 = nn.Conv2d(in_channels=base_filters, out_channels=base_filters * 2, kernel_size=kernel_size, padding=padding)\n",
    "        self.bn2 = nn.BatchNorm2d(base_filters * 2)\n",
    "        \n",
    "        # Third conv block (doubling again)\n",
    "        self.conv3 = nn.Conv2d(in_channels=base_filters * 2, out_channels=base_filters * 4, kernel_size=kernel_size, padding=padding)\n",
    "        self.bn3 = nn.BatchNorm2d(base_filters * 4)\n",
    "        \n",
    "        # Dropout layer\n",
    "        self.dropout = nn.Dropout(dropout_rate)\n",
    "        \n",
    "        # Global average pooling layer\n",
    "        self.gap = nn.AdaptiveAvgPool2d((1, 1))\n",
    "        \n",
    "        # Fully connected layer\n",
    "        self.fc = nn.Linear(base_filters * 4, num_classes)\n",
    "    \n",
    "    def forward(self, x):\n",
    "        x = torch.relu(self.bn1(self.conv1(x)))\n",
    "        x = self.pool(x)\n",
    "        x = torch.relu(self.bn2(self.conv2(x)))\n",
    "        x = self.pool(x)\n",
    "        x = torch.relu(self.bn3(self.conv3(x)))\n",
    "        x = self.pool(x)\n",
    "        x = self.dropout(x)\n",
    "        x = self.gap(x)\n",
    "        x = x.view(x.size(0), -1)\n",
    "        x = self.fc(x)\n",
    "        return x\n",
    "\n",
    "# =============================================================================\n",
    "# Data Preparation Helpers\n",
    "# =============================================================================\n",
    "# Assuming train_dataset and test_dataset are already defined.\n",
    "# Example:\n",
    "# train_dataset = YourCustomH5Dataset(trainPaths, transform=your_transforms)\n",
    "# test_dataset  = YourCustomH5Dataset(testPaths, transform=your_transforms)\n",
    "hf = h5py.File(file_path, 'r')\n",
    "train_dataset = H5Dataset(paths=trainPaths, hf=hf)\n",
    "test_dataset = H5Dataset(paths=testPaths, hf=hf)\n",
    "\n",
    "def get_data_loaders(batch_size):\n",
    "    train_loader = DataLoader(train_dataset, batch_size=batch_size, shuffle=True, num_workers=0)\n",
    "    test_loader = DataLoader(test_dataset, batch_size=batch_size, shuffle=False, num_workers=0)\n",
    "    return train_loader, test_loader\n",
    "\n",
    "# =============================================================================\n",
    "# Training and Evaluation Function\n",
    "# =============================================================================\n",
    "def train_and_evaluate(lr, batch_size, base_filters, kernel_size, dropout_rate, num_epochs=3):\n",
    "    \"\"\"\n",
    "    Trains a model with the specified hyperparameters for num_epochs (default 3) and evaluates its accuracy.\n",
    "    Returns a tuple of (test_accuracy, model_state_dict).\n",
    "    \"\"\"\n",
    "    train_loader, test_loader = get_data_loaders(batch_size)\n",
    "    \n",
    "    # Initialize the model with provided hyperparameters\n",
    "    model = CNNClassifier(num_classes=10, base_filters=base_filters, kernel_size=kernel_size, dropout_rate=dropout_rate)\n",
    "    model.to(device)\n",
    "    \n",
    "    criterion = nn.CrossEntropyLoss()\n",
    "    optimizer = optim.Adam(model.parameters(), lr=lr)\n",
    "    \n",
    "    # Training loop\n",
    "    model.train()\n",
    "    for epoch in range(num_epochs):\n",
    "        running_loss = 0.0\n",
    "        progress_bar = tqdm(train_loader, desc=f\"Epoch {epoch+1}/{num_epochs}\", leave=False)\n",
    "        for inputs, labels in progress_bar:\n",
    "            inputs, labels = inputs.to(device), labels.to(device)\n",
    "            optimizer.zero_grad()\n",
    "            outputs = model(inputs)\n",
    "            loss = criterion(outputs, labels)\n",
    "            loss.backward()\n",
    "            optimizer.step()\n",
    "            running_loss += loss.item() * inputs.size(0)\n",
    "            progress_bar.set_postfix(loss=loss.item())\n",
    "    \n",
    "    # Evaluation loop\n",
    "    model.eval()\n",
    "    correct = 0\n",
    "    total = 0\n",
    "    with torch.no_grad():\n",
    "        for inputs, labels in test_loader:\n",
    "            inputs, labels = inputs.to(device), labels.to(device)\n",
    "            outputs = model(inputs)\n",
    "            _, preds = torch.max(outputs, 1)\n",
    "            total += labels.size(0)\n",
    "            correct += (preds == labels).sum().item()\n",
    "    accuracy = correct / total\n",
    "    return accuracy, model.state_dict()\n",
    "\n",
    "# =============================================================================\n",
    "# Hyperparameter Tuning Loop with Periodic Checkpointing\n",
    "# =============================================================================\n",
    "# Hyperparameter grid\n",
    "learning_rates = [1e-3, 5e-4]\n",
    "batch_sizes = [16, 32]\n",
    "base_filters_list = [16, 32]\n",
    "kernel_sizes = [3, 5]\n",
    "dropout_rates = [0.0, 0.5]\n",
    "\n",
    "# All hyperparameter combinations\n",
    "hyperparam_combinations = list(itertools.product(learning_rates, batch_sizes, base_filters_list, kernel_sizes, dropout_rates))\n",
    "\n",
    "# Create directory for model checkpoints\n",
    "checkpoint_dir = \"checkpoints\"\n",
    "if not os.path.exists(checkpoint_dir):\n",
    "    os.makedirs(checkpoint_dir)\n",
    "\n",
    "results = []\n",
    "print(\"Starting hyperparameter tuning...\")\n",
    "\n",
    "# Loop over hyperparameter combinations\n",
    "for idx, (lr, batch_size, base_filters, kernel_size, dropout_rate) in enumerate(hyperparam_combinations):\n",
    "    print(f\"\\nExperiment {idx+1}/{len(hyperparam_combinations)}: lr={lr}, batch_size={batch_size}, filters={base_filters}, kernel_size={kernel_size}, dropout={dropout_rate}\")\n",
    "    \n",
    "    test_acc, model_state = train_and_evaluate(lr, batch_size, base_filters, kernel_size, dropout_rate, num_epochs=3)\n",
    "    \n",
    "    # Save model checkpoint with filename encoding hyperparameters.\n",
    "    model_filename = f\"model_lr{lr}_bs{batch_size}_f{base_filters}_k{kernel_size}_d{dropout_rate}.pth\"\n",
    "    model_save_path = os.path.join(checkpoint_dir, model_filename)\n",
    "    torch.save(model_state, model_save_path)\n",
    "    \n",
    "    # Record results along with the model checkpoint path.\n",
    "    results.append({\n",
    "        \"lr\": lr,\n",
    "        \"batch_size\": batch_size,\n",
    "        \"base_filters\": base_filters,\n",
    "        \"kernel_size\": kernel_size,\n",
    "        \"dropout_rate\": dropout_rate,\n",
    "        \"test_accuracy\": test_acc,\n",
    "        \"model_path\": model_save_path\n",
    "    })\n",
    "    \n",
    "    print(f\"Test Accuracy: {test_acc:.4f} -- Model saved as {model_save_path}\")\n",
    "    \n",
    "    # Save intermediate results to CSV after each experiment.\n",
    "    results_df = pd.DataFrame(results)\n",
    "    results_df.to_csv(\"hyperparam_tuning_results.csv\", index=False)\n",
    "\n",
    "# =============================================================================\n",
    "# Final Results Table and Plot\n",
    "# =============================================================================\n",
    "results_df = pd.DataFrame(results)\n",
    "print(\"\\nHyperparameter Tuning Results:\")\n",
    "print(results_df)\n",
    "\n",
    "results_df_sorted = results_df.sort_values(by=\"test_accuracy\", ascending=False)\n",
    "print(\"\\nBest Hyperparameters:\")\n",
    "print(results_df_sorted.head())\n",
    "\n",
    "plt.figure(figsize=(10,6))\n",
    "plt.barh(results_df_sorted.index.astype(str), results_df_sorted['test_accuracy'], color='skyblue')\n",
    "plt.xlabel(\"Test Accuracy\")\n",
    "plt.title(\"Hyperparameter Tuning Results\")\n",
    "plt.gca().invert_yaxis()\n",
    "plt.show()\n",
    "\n",
    "\n",
    "# close the file\n",
    "hf.close()"
   ]
  },
  {
   "cell_type": "code",
   "execution_count": null,
   "metadata": {},
   "outputs": [],
   "source": []
  }
 ],
 "metadata": {
  "colab": {
   "provenance": []
  },
  "kernelspec": {
   "display_name": "Python 3 (ipykernel)",
   "language": "python",
   "name": "python3"
  },
  "language_info": {
   "codemirror_mode": {
    "name": "ipython",
    "version": 3
   },
   "file_extension": ".py",
   "mimetype": "text/x-python",
   "name": "python",
   "nbconvert_exporter": "python",
   "pygments_lexer": "ipython3",
   "version": "3.13.2"
  }
 },
 "nbformat": 4,
 "nbformat_minor": 4
}
